{
 "cells": [
  {
   "cell_type": "code",
   "execution_count": 3,
   "metadata": {},
   "outputs": [],
   "source": [
    "import numpy as np\n",
    "import matplotlib.pyplot as plt"
   ]
  },
  {
   "cell_type": "markdown",
   "metadata": {},
   "source": [
    "### Exercise 1:  \n",
    "Using the standard linear algebra method of this Section, \n",
    "fit the straight line y = mx + b to the x, y, and σy values\n",
    "for data points 5 through 20 in Table 1 on page 6. That is,\n",
    "ignore the first four data points, and also ignore the columns\n",
    "for σx and ρxy. Make a plot showing the points, their\n",
    "uncertainties, and the best-fit line. Your plot should end up\n",
    "looking like Figure 1. What is the standard uncertainty\n",
    "variance σm2 on the slope of the line?"
   ]
  },
  {
   "cell_type": "code",
   "execution_count": 4,
   "metadata": {},
   "outputs": [],
   "source": [
    "# ID, x, y, s_y, s_x, r_xy\n",
    "Table1 = np.array([[1,  201, 592, 61, 9,  -0.84],\n",
    "[2,  244, 401, 25, 4,  0.31],\n",
    "[3,  47,  583, 38, 11, 0.64],\n",
    "[4,  287, 402, 15, 7,  -0.27],\n",
    "[5,  203, 495, 21, 5,  -0.33],\n",
    "[6,  58,  173, 15, 9,  0.67],\n",
    "[7,  210, 479, 27, 4,  -0.02],\n",
    "[8,  202, 504, 14, 4,  -0.05],\n",
    "[9,  198, 510, 30, 11, -0.84],\n",
    "[10, 158, 416, 16, 7,  -0.69],\n",
    "[11, 165, 393, 14, 5,  0.30],\n",
    "[12, 201, 442, 25, 5,  -0.46],\n",
    "[13, 157, 317, 52, 5,  -0.03],\n",
    "[14, 131, 311, 16, 6,  0.50],\n",
    "[15, 166, 400, 34, 6,  0.73],\n",
    "[16, 160, 337, 31, 5,  -0.52],\n",
    "[17, 186, 423, 42, 9,  0.90],\n",
    "[18, 125, 334, 26, 8,  0.40],\n",
    "[19, 218, 533, 16, 6,  -0.78],\n",
    "[20, 146, 344, 22, 5,  -0.56]])"
   ]
  },
  {
   "cell_type": "code",
   "execution_count": 5,
   "metadata": {},
   "outputs": [],
   "source": [
    "x = Table1[4:,1]\n",
    "y = Table1[4:,2]\n",
    "sy = Table1[4:,3]\n",
    "sx = Table1[4:,4]\n",
    "rxy = Table1[4:,5]\n",
    "\n",
    "A = np.c_[x/x,x]\n",
    "\n",
    "C = np.eye(sy.size)*(sy**2)"
   ]
  },
  {
   "cell_type": "markdown",
   "metadata": {},
   "source": [
    "Fitting a straight line:   \n",
    "    $y = mx + b$"
   ]
  },
  {
   "cell_type": "code",
   "execution_count": 6,
   "metadata": {},
   "outputs": [
    {
     "name": "stdout",
     "output_type": "stream",
     "text": [
      "m=2.2399208316310926,b=34.047727757542816\n"
     ]
    },
    {
     "data": {
      "text/plain": [
       "(0.0, 700.0)"
      ]
     },
     "execution_count": 6,
     "metadata": {},
     "output_type": "execute_result"
    },
    {
     "data": {
      "image/png": "[encoded data removed]",
      "text/plain": [
       "<Figure size 432x288 with 1 Axes>"
      ]
     },
     "metadata": {
      "needs_background": "light"
     },
     "output_type": "display_data"
    }
   ],
   "source": [
    "\n",
    "\n",
    "AT_Cinv_A = (A.T).dot(np.linalg.inv(C).dot(A))\n",
    "AT_Cinv_Y = (A.T).dot(np.linalg.inv(C).dot(y))\n",
    "\n",
    "b,m =  np.linalg.inv(AT_Cinv_A).dot(AT_Cinv_Y)\n",
    "\n",
    "print(f'm={m},b={b}')\n",
    "\n",
    "plt.figure()\n",
    "\n",
    "plt.errorbar(x,y, yerr=sy, fmt='.')\n",
    "x = np.sort(x)\n",
    "plt.plot(x,m*x+b)\n",
    "\n",
    "plt.xlim(0,300)\n",
    "plt.ylim(0,700)"
   ]
  },
  {
   "cell_type": "markdown",
   "metadata": {},
   "source": [
    "### Exercise 2: \n",
    "Repeat Exercise 1 but for all the data points in Table 1 on page 6.\n",
    "Your plot should end up looking like Figure 2. What is the standard\n",
    "uncertainty variance σm2 on the slope of the line? Is there anything\n",
    "you don’t like about the result? Is there anything different about\n",
    "the new points you have included beyond those used in Exercise 1?"
   ]
  },
  {
   "cell_type": "code",
   "execution_count": 92,
   "metadata": {},
   "outputs": [
    {
     "data": {
      "text/plain": [
       "(0.0, 700.0)"
      ]
     },
     "execution_count": 92,
     "metadata": {},
     "output_type": "execute_result"
    },
    {
     "data": {
      "image/png": "[encoded data removed]",
      "text/plain": [
       "<Figure size 432x288 with 1 Axes>"
      ]
     },
     "metadata": {
      "needs_background": "light"
     },
     "output_type": "display_data"
    }
   ],
   "source": [
    "x = Table1[:,1]\n",
    "y = Table1[:,2]\n",
    "sy = Table1[:,3]\n",
    "sx = Table1[:,4]\n",
    "rxy = Table1[:,5]\n",
    "\n",
    "A = np.c_[x/x,x]\n",
    "\n",
    "C = np.eye(sy.size)*(sy**2)\n",
    "\n",
    "AT_Cinv_A = (A.T).dot(np.linalg.inv(C).dot(A))\n",
    "AT_Cinv_Y = (A.T).dot(np.linalg.inv(C).dot(y))\n",
    "\n",
    "b,m =  np.linalg.inv(AT_Cinv_A).dot(AT_Cinv_Y)\n",
    "\n",
    "plt.figure()\n",
    "x = np.sort(x)\n",
    "\n",
    "\n",
    "plt.errorbar(x,y, yerr=sy, fmt='.')\n",
    "plt.plot(x,m*x+b)\n",
    "\n",
    "plt.xlim(0,300)\n",
    "plt.ylim(0,700)"
   ]
  },
  {
   "cell_type": "markdown",
   "metadata": {},
   "source": [
    "So clearly the fit is now not good. The problem is that the data is\n",
    "intrinsically non-linaearly distributed."
   ]
  },
  {
   "cell_type": "markdown",
   "metadata": {},
   "source": [
    "### Exercise 3: \n",
    "Generalize the method of this Section to fit a general quadratic\n",
    "(second order) relationship. Add another column to matrix $A$\n",
    "containing the values $x^2_i$ , and another element to vector $X$ (call\n",
    "it $q$). Then re-do Exercise 1 but fitting for and plotting the best\n",
    "quadratic relationship $g(x)=qx2 +mx+b$. Your plot should end\n",
    "up looking like Figure 3."
   ]
  },
  {
   "cell_type": "code",
   "execution_count": 95,
   "metadata": {},
   "outputs": [
    {
     "data": {
      "text/plain": [
       "(0.0, 700.0)"
      ]
     },
     "execution_count": 95,
     "metadata": {},
     "output_type": "execute_result"
    },
    {
     "data": {
      "image/png": "[encoded data removed]",
      "text/plain": [
       "<Figure size 432x288 with 1 Axes>"
      ]
     },
     "metadata": {
      "needs_background": "light"
     },
     "output_type": "display_data"
    }
   ],
   "source": [
    "x   = Table1[4:,1]\n",
    "y   = Table1[4:,2]\n",
    "sy  = Table1[4:,3]\n",
    "sx  = Table1[4:,4]\n",
    "rxy = Table1[4:,5]\n",
    "\n",
    "A = np.c_[x/x,x, x**2]\n",
    "\n",
    "C = np.eye(sy.size)*(sy**2)\n",
    "\n",
    "AT_Cinv_A = (A.T).dot(np.linalg.inv(C).dot(A))\n",
    "AT_Cinv_Y = (A.T).dot(np.linalg.inv(C).dot(y))\n",
    "\n",
    "b,m, q =  np.linalg.inv(AT_Cinv_A).dot(AT_Cinv_Y)\n",
    "\n",
    "plt.figure()\n",
    "\n",
    "plt.errorbar(x,y, yerr=sy, fmt='.')\n",
    "x = np.linspace(0,300)\n",
    "plt.plot(x,q*x**2+m*x+b)\n",
    "\n",
    "\n",
    "plt.xlim(0,300)\n",
    "plt.ylim(0,700)"
   ]
  },
  {
   "cell_type": "code",
   "execution_count": null,
   "metadata": {},
   "outputs": [],
   "source": []
  },
  {
   "cell_type": "code",
   "execution_count": null,
   "metadata": {},
   "outputs": [],
   "source": []
  }
 ],
 "metadata": {
  "kernelspec": {
   "display_name": "Python 3",
   "language": "python",
   "name": "python3"
  },
  "language_info": {
   "codemirror_mode": {
    "name": "ipython",
    "version": 3
   },
   "file_extension": ".py",
   "mimetype": "text/x-python",
   "name": "python",
   "nbconvert_exporter": "python",
   "pygments_lexer": "ipython3",
   "version": "3.7.8"
  }
 },
 "nbformat": 4,
 "nbformat_minor": 4
}
