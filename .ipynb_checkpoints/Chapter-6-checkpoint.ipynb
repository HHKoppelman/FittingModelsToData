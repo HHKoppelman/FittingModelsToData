{
 "cells": [
  {
   "cell_type": "code",
   "execution_count": 2,
   "metadata": {},
   "outputs": [],
   "source": [
    "import numpy as np\n",
    "import matplotlib.pyplot as plt"
   ]
  },
  {
   "cell_type": "markdown",
   "metadata": {},
   "source": [
    "### Exercise 10:  \n",
    "Assess the χ2 value for the fit performed in Exercise 1 (do that problem first if you haven’t already). Is the fit good? What about for the fit performed in Exercise 2?"
   ]
  },
  {
   "cell_type": "code",
   "execution_count": 3,
   "metadata": {},
   "outputs": [],
   "source": [
    "# ID, x, y, s_y, s_x, r_xy\n",
    "Table1 = np.array([[1,  201, 592, 61, 9,  -0.84],\n",
    "[2,  244, 401, 25, 4,  0.31],\n",
    "[3,  47,  583, 38, 11, 0.64],\n",
    "[4,  287, 402, 15, 7,  -0.27],\n",
    "[5,  203, 495, 21, 5,  -0.33],\n",
    "[6,  58,  173, 15, 9,  0.67],\n",
    "[7,  210, 479, 27, 4,  -0.02],\n",
    "[8,  202, 504, 14, 4,  -0.05],\n",
    "[9,  198, 510, 30, 11, -0.84],\n",
    "[10, 158, 416, 16, 7,  -0.69],\n",
    "[11, 165, 393, 14, 5,  0.30],\n",
    "[12, 201, 442, 25, 5,  -0.46],\n",
    "[13, 157, 317, 52, 5,  -0.03],\n",
    "[14, 131, 311, 16, 6,  0.50],\n",
    "[15, 166, 400, 34, 6,  0.73],\n",
    "[16, 160, 337, 31, 5,  -0.52],\n",
    "[17, 186, 423, 42, 9,  0.90],\n",
    "[18, 125, 334, 26, 8,  0.40],\n",
    "[19, 218, 533, 16, 6,  -0.78],\n",
    "[20, 146, 344, 22, 5,  -0.56]])"
   ]
  },
  {
   "cell_type": "code",
   "execution_count": 4,
   "metadata": {},
   "outputs": [],
   "source": [
    "x = Table1[4:,1]\n",
    "y = Table1[4:,2]\n",
    "sy = Table1[4:,3]\n",
    "sx = Table1[4:,4]\n",
    "rxy = Table1[4:,5]\n",
    "\n",
    "A = np.c_[x/x,x]\n",
    "\n",
    "C = np.eye(sy.size)*(sy**2)"
   ]
  },
  {
   "cell_type": "markdown",
   "metadata": {},
   "source": [
    "Fitting a straight line:   \n",
    "    $y = mx + b$"
   ]
  },
  {
   "cell_type": "code",
   "execution_count": 8,
   "metadata": {},
   "outputs": [
    {
     "name": "stdout",
     "output_type": "stream",
     "text": [
      "m=2.2399208316310926,b=34.047727757542816\n"
     ]
    },
    {
     "data": {
      "text/plain": [
       "(0.0, 700.0)"
      ]
     },
     "execution_count": 8,
     "metadata": {},
     "output_type": "execute_result"
    },
    {
     "data": {
      "image/png": "[encoded data removed]",
      "text/plain": [
       "<Figure size 432x288 with 1 Axes>"
      ]
     },
     "metadata": {
      "needs_background": "light"
     },
     "output_type": "display_data"
    }
   ],
   "source": [
    "\n",
    "\n",
    "AT_Cinv_A = (A.T).dot(np.linalg.inv(C).dot(A))\n",
    "AT_Cinv_Y = (A.T).dot(np.linalg.inv(C).dot(y))\n",
    "\n",
    "b,m =  np.linalg.inv(AT_Cinv_A).dot(AT_Cinv_Y)\n",
    "\n",
    "print(f'm={m},b={b}')\n",
    "\n",
    "plt.figure()\n",
    "\n",
    "plt.errorbar(x,y, yerr=sy, fmt='.')\n",
    "x = np.sort(x)\n",
    "plt.plot(x,m*x+b)\n",
    "\n",
    "plt.xlim(0,300)\n",
    "plt.ylim(0,700)"
   ]
  },
  {
   "cell_type": "code",
   "execution_count": 9,
   "metadata": {},
   "outputs": [],
   "source": [
    "X = np.array([b,m])\n"
   ]
  },
  {
   "cell_type": "code",
   "execution_count": 12,
   "metadata": {},
   "outputs": [],
   "source": [
    "U = y-A.dot(X)\n",
    "chi_sq = (U.T).dot(np.linalg.inv(C).dot(U))"
   ]
  },
  {
   "cell_type": "code",
   "execution_count": 13,
   "metadata": {},
   "outputs": [
    {
     "data": {
      "text/plain": [
       "18.68076991124081"
      ]
     },
     "execution_count": 13,
     "metadata": {},
     "output_type": "execute_result"
    }
   ],
   "source": [
    "chi_sq"
   ]
  },
  {
   "cell_type": "code",
   "execution_count": 14,
   "metadata": {},
   "outputs": [
    {
     "name": "stdout",
     "output_type": "stream",
     "text": [
      "19.29150262212918 8.708497377870819\n"
     ]
    }
   ],
   "source": [
    "# \"Good value\": chi_sq = N-2 \\pm sqrt(2(N-2))\n",
    "N = y.size\n",
    "print(N-2 + np.sqrt(2*N-4),N-2 - np.sqrt(2*N-4))"
   ]
  },
  {
   "cell_type": "markdown",
   "metadata": {},
   "source": [
    "So yes the fit seems good."
   ]
  },
  {
   "cell_type": "markdown",
   "metadata": {},
   "source": [
    "### Exercise 10: part 2 \n"
   ]
  },
  {
   "cell_type": "code",
   "execution_count": 20,
   "metadata": {},
   "outputs": [
    {
     "data": {
      "text/plain": [
       "(0.0, 700.0)"
      ]
     },
     "execution_count": 20,
     "metadata": {},
     "output_type": "execute_result"
    },
    {
     "data": {
      "image/png": "[encoded data removed]",
      "text/plain": [
       "<Figure size 432x288 with 1 Axes>"
      ]
     },
     "metadata": {
      "needs_background": "light"
     },
     "output_type": "display_data"
    }
   ],
   "source": [
    "x = Table1[:,1]\n",
    "y = Table1[:,2]\n",
    "sy = Table1[:,3]\n",
    "sx = Table1[:,4]\n",
    "rxy = Table1[:,5]\n",
    "\n",
    "A = np.c_[x/x,x]\n",
    "\n",
    "C = np.eye(sy.size)*(sy**2)\n",
    "\n",
    "AT_Cinv_A = (A.T).dot(np.linalg.inv(C).dot(A))\n",
    "AT_Cinv_Y = (A.T).dot(np.linalg.inv(C).dot(y))\n",
    "\n",
    "b,m =  np.linalg.inv(AT_Cinv_A).dot(AT_Cinv_Y)\n",
    "\n",
    "plt.figure()\n",
    "x = np.sort(x)\n",
    "\n",
    "\n",
    "plt.errorbar(x,y, yerr=sy, fmt='.')\n",
    "plt.plot(x,m*x+b)\n",
    "\n",
    "plt.xlim(0,300)\n",
    "plt.ylim(0,700)"
   ]
  },
  {
   "cell_type": "code",
   "execution_count": 21,
   "metadata": {},
   "outputs": [],
   "source": [
    "X = np.array([b,m])"
   ]
  },
  {
   "cell_type": "code",
   "execution_count": 22,
   "metadata": {},
   "outputs": [],
   "source": [
    "U = y-A.dot(X)\n",
    "chi_sq = (U.T).dot(np.linalg.inv(C).dot(U))"
   ]
  },
  {
   "cell_type": "code",
   "execution_count": 23,
   "metadata": {},
   "outputs": [
    {
     "data": {
      "text/plain": [
       "289.9637227819993"
      ]
     },
     "execution_count": 23,
     "metadata": {},
     "output_type": "execute_result"
    }
   ],
   "source": [
    "chi_sq"
   ]
  },
  {
   "cell_type": "code",
   "execution_count": 24,
   "metadata": {},
   "outputs": [
    {
     "name": "stdout",
     "output_type": "stream",
     "text": [
      "24.0 12.0\n"
     ]
    }
   ],
   "source": [
    "# \"Good value\": chi_sq = N-2 \\pm sqrt(2(N-2))\n",
    "N = y.size\n",
    "print(N-2 + np.sqrt(2*N-4),N-2 - np.sqrt(2*N-4))"
   ]
  },
  {
   "cell_type": "markdown",
   "metadata": {},
   "source": [
    "And now clearly the fit is bad"
   ]
  },
  {
   "cell_type": "markdown",
   "metadata": {},
   "source": [
    "### Exercise 11: \n",
    "Re-do the fit of Exercise 1 but setting all σy2i = S, that is,\n",
    "ignoring the uncertainties and replacing them all with the same\n",
    "value S. What uncertainty variance S would make χ2 = N − 2? Relevant\n",
    "plots are shown in Figure 7. How does it compare to the mean and\n",
    "median of the uncertainty variances {σy2i}Ni=1?"
   ]
  },
  {
   "cell_type": "code",
   "execution_count": 35,
   "metadata": {},
   "outputs": [],
   "source": [
    "x = Table1[4:,1]\n",
    "y = Table1[4:,2]\n",
    "sx = Table1[4:,4]\n",
    "rxy = Table1[4:,5]\n",
    "\n",
    "A = np.c_[x/x,x]\n",
    "\n",
    "s_list = np.linspace(20,1500,100)\n",
    "chi_sq = np.zeros_like(s_list)\n",
    "for i, s in enumerate(s_list):\n",
    "    sy = np.ones_like(x)*np.sqrt(s)\n",
    "    C = np.eye(sy.size)*(sy**2)\n",
    "\n",
    "    AT_Cinv_A = (A.T).dot(np.linalg.inv(C).dot(A))\n",
    "    AT_Cinv_Y = (A.T).dot(np.linalg.inv(C).dot(y))\n",
    "\n",
    "    b,m =  np.linalg.inv(AT_Cinv_A).dot(AT_Cinv_Y)\n",
    "\n",
    "    \n",
    "    X = np.array([b,m])\n",
    "    U = y-A.dot(X)\n",
    "    chi_sq[i] = (U.T).dot(np.linalg.inv(C).dot(U))"
   ]
  },
  {
   "cell_type": "code",
   "execution_count": 37,
   "metadata": {},
   "outputs": [
    {
     "data": {
      "text/plain": [
       "(0.0, 50.0)"
      ]
     },
     "execution_count": 37,
     "metadata": {},
     "output_type": "execute_result"
    },
    {
     "data": {
      "image/png": "[encoded data removed]",
      "text/plain": [
       "<Figure size 432x288 with 1 Axes>"
      ]
     },
     "metadata": {
      "needs_background": "light"
     },
     "output_type": "display_data"
    }
   ],
   "source": [
    "plt.plot(s_list, chi_sq)\n",
    "# \"Good value\": chi_sq = N-2 \\pm sqrt(2(N-2))\n",
    "N = y.size\n",
    "plt.fill_between([0,1400],N-2 + np.sqrt(2*N-4),N-2 - np.sqrt(2*N-4), alpha=0.2, color='k')\n",
    "plt.ylim(0,50)"
   ]
  },
  {
   "cell_type": "code",
   "execution_count": 38,
   "metadata": {},
   "outputs": [
    {
     "name": "stdout",
     "output_type": "stream",
     "text": [
      "27.0 25.0\n"
     ]
    }
   ],
   "source": [
    "sy = Table1[:,3]\n",
    "\n",
    "print(np.mean(sy),np.median(sy))"
   ]
  },
  {
   "cell_type": "markdown",
   "metadata": {},
   "source": [
    "so... a very large value for sy makes the fit good."
   ]
  },
  {
   "cell_type": "code",
   "execution_count": null,
   "metadata": {},
   "outputs": [],
   "source": []
  }
 ],
 "metadata": {
  "kernelspec": {
   "display_name": "Python 3",
   "language": "python",
   "name": "python3"
  },
  "language_info": {
   "codemirror_mode": {
    "name": "ipython",
    "version": 3
   },
   "file_extension": ".py",
   "mimetype": "text/x-python",
   "name": "python",
   "nbconvert_exporter": "python",
   "pygments_lexer": "ipython3",
   "version": "3.7.8"
  }
 },
 "nbformat": 4,
 "nbformat_minor": 4
}
