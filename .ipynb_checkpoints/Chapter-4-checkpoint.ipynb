{
 "cells": [
  {
   "cell_type": "markdown",
   "metadata": {},
   "source": [
    "Chapter 4 is about the Jackknife and Bootstrap methods, applied to Exercise 2 and 6."
   ]
  },
  {
   "cell_type": "code",
   "execution_count": 3,
   "metadata": {},
   "outputs": [],
   "source": [
    "import numpy as np\n",
    "import matplotlib.pyplot as plt"
   ]
  },
  {
   "cell_type": "code",
   "execution_count": 27,
   "metadata": {},
   "outputs": [],
   "source": [
    "# ID, x, y, s_y, s_x, r_xy\n",
    "Table1 = np.array([[1,  201, 592, 61, 9,  -0.84],\n",
    "[2,  244, 401, 25, 4,  0.31],\n",
    "[3,  47,  583, 38, 11, 0.64],\n",
    "[4,  287, 402, 15, 7,  -0.27],\n",
    "[5,  203, 495, 21, 5,  -0.33],\n",
    "[6,  58,  173, 15, 9,  0.67],\n",
    "[7,  210, 479, 27, 4,  -0.02],\n",
    "[8,  202, 504, 14, 4,  -0.05],\n",
    "[9,  198, 510, 30, 11, -0.84],\n",
    "[10, 158, 416, 16, 7,  -0.69],\n",
    "[11, 165, 393, 14, 5,  0.30],\n",
    "[12, 201, 442, 25, 5,  -0.46],\n",
    "[13, 157, 317, 52, 5,  -0.03],\n",
    "[14, 131, 311, 16, 6,  0.50],\n",
    "[15, 166, 400, 34, 6,  0.73],\n",
    "[16, 160, 337, 31, 5,  -0.52],\n",
    "[17, 186, 423, 42, 9,  0.90],\n",
    "[18, 125, 334, 26, 8,  0.40],\n",
    "[19, 218, 533, 16, 6,  -0.78],\n",
    "[20, 146, 344, 22, 5,  -0.56]])"
   ]
  },
  {
   "cell_type": "markdown",
   "metadata": {},
   "source": [
    "### Exercise 2: \n",
    "Repeat Exercise 1 but for all the data points in Table 1 on page 6.\n",
    "Your plot should end up looking like Figure 2. What is the standard\n",
    "uncertainty variance σm2 on the slope of the line? Is there anything\n",
    "you don’t like about the result? Is there anything different about\n",
    "the new points you have included beyond those used in Exercise 1?"
   ]
  },
  {
   "cell_type": "code",
   "execution_count": 31,
   "metadata": {},
   "outputs": [
    {
     "data": {
      "text/plain": [
       "(0.0, 700.0)"
      ]
     },
     "execution_count": 31,
     "metadata": {},
     "output_type": "execute_result"
    },
    {
     "data": {
      "image/png": "[encoded data removed]",
      "text/plain": [
       "<Figure size 432x288 with 1 Axes>"
      ]
     },
     "metadata": {
      "needs_background": "light"
     },
     "output_type": "display_data"
    }
   ],
   "source": [
    "x = Table1[:,1]\n",
    "y = Table1[:,2]\n",
    "sy = Table1[:,3]\n",
    "sx = Table1[:,4]\n",
    "rxy = Table1[:,5]\n",
    "\n",
    "A = np.c_[x/x,x]\n",
    "\n",
    "C = np.eye(sy.size)*(sy**2)\n",
    "\n",
    "AT_Cinv_A = (A.T).dot(np.linalg.inv(C).dot(A))\n",
    "AT_Cinv_Y = (A.T).dot(np.linalg.inv(C).dot(y))\n",
    "\n",
    "b2,m2 =  np.linalg.inv(AT_Cinv_A).dot(AT_Cinv_Y)\n",
    "\n",
    "plt.figure()\n",
    "px = np.sort(x)\n",
    "\n",
    "\n",
    "plt.errorbar(x,y, yerr=sy, fmt='.')\n",
    "plt.plot(px,m2*px+b2)\n",
    "\n",
    "plt.xlim(0,300)\n",
    "plt.ylim(0,700)"
   ]
  },
  {
   "cell_type": "markdown",
   "metadata": {},
   "source": [
    "So clearly the fit is now not good. The problem is that the data is\n",
    "intrinsically non-linaearly distributed."
   ]
  },
  {
   "cell_type": "markdown",
   "metadata": {},
   "source": [
    "### Exercise 8:"
   ]
  },
  {
   "cell_type": "markdown",
   "metadata": {},
   "source": [
    "Compute the standard uncertainty σm2 obtained for the slope of the line\n",
    "    found by the standard fit you did in Exercise 2. Now make jackknife (20 trials)\n",
    "    and bootstrap estimates for the uncertainty σm. How do the uncertainties compare\n",
    "    and which seems most reasonable, given the data and uncertainties on the data?"
   ]
  },
  {
   "cell_type": "markdown",
   "metadata": {},
   "source": [
    "#### First the jackknife:"
   ]
  },
  {
   "cell_type": "code",
   "execution_count": 41,
   "metadata": {},
   "outputs": [],
   "source": [
    "N = x.size\n",
    "indices = np.arange(N)\n",
    "b = np.zeros_like(indices, dtype='float')\n",
    "m = np.zeros_like(indices, dtype='float')\n",
    "for i in range(N):\n",
    "    \n",
    "    mask = indices!=i\n",
    "    \n",
    "    A = np.c_[x[mask]/x[mask],x[mask]]\n",
    "    C = np.eye(sy[mask].size)*(sy[mask]**2)\n",
    "\n",
    "    AT_Cinv_A = (A.T).dot(np.linalg.inv(C).dot(A))\n",
    "    AT_Cinv_Y = (A.T).dot(np.linalg.inv(C).dot(y[mask]))\n",
    "\n",
    "    b[i],m[i] =  np.linalg.inv(AT_Cinv_A).dot(AT_Cinv_Y)\n",
    "\n",
    "    \n",
    "s_m = np.sqrt((1-1/N)*sum((m-sum(m)/N)**2))\n",
    "s_b = np.sqrt((1-1/N)*sum((b-sum(b)/N)**2))"
   ]
  },
  {
   "cell_type": "code",
   "execution_count": 47,
   "metadata": {},
   "outputs": [
    {
     "name": "stdout",
     "output_type": "stream",
     "text": [
      "[213.48080528 206.7511388  175.24067588 124.61052378 214.31278036\n",
      " 338.3411351  214.077084   215.75721529 213.42212526 207.5759538\n",
      " 212.87851514 213.37033611 214.28904227 226.74297542 213.04680881\n",
      " 215.26703355 213.21329207 214.91045783 221.876064   216.36006107]\n",
      "mean b 213.2734919759605\n",
      "uncertainty in b: 154.98705737482064\n"
     ]
    }
   ],
   "source": [
    "print(b)\n",
    "print('mean b',b2)\n",
    "print('uncertainty in b:',s_b)"
   ]
  },
  {
   "cell_type": "code",
   "execution_count": 46,
   "metadata": {
    "scrolled": true
   },
   "outputs": [
    {
     "name": "stdout",
     "output_type": "stream",
     "text": [
      "[1.07015628 1.12987707 1.26316471 1.69521531 1.05208334 0.47149593\n",
      " 1.06520977 1.00962038 1.06414197 1.09183773 1.07752746 1.0736685\n",
      " 1.07397981 1.02422851 1.0771676  1.07179884 1.07642082 1.07011979\n",
      " 0.98102954 1.06634773]\n",
      "mean m 1.0767475241683329\n",
      "uncertainty in m: 0.8740400908826319\n"
     ]
    }
   ],
   "source": [
    "print(m)\n",
    "print('mean m',m2)\n",
    "print('uncertainty in m:',s_m)"
   ]
  },
  {
   "cell_type": "markdown",
   "metadata": {},
   "source": [
    "Large uncertainties."
   ]
  },
  {
   "cell_type": "markdown",
   "metadata": {},
   "source": [
    "#### Then the bootstrap:"
   ]
  },
  {
   "cell_type": "code",
   "execution_count": 59,
   "metadata": {},
   "outputs": [],
   "source": [
    "N = x.size\n",
    "indices = np.arange(N)\n",
    "b = np.zeros_like(indices, dtype='float')\n",
    "m = np.zeros_like(indices, dtype='float')\n",
    "\n",
    "np.random.seed(313)\n",
    "for i in range(N):\n",
    "    \n",
    "    mask = np.random.choice(indices,size=N, replace=True)\n",
    "    \n",
    "    A = np.c_[x[mask]/x[mask],x[mask]]\n",
    "    C = np.eye(sy[mask].size)*(sy[mask]**2)\n",
    "\n",
    "    AT_Cinv_A = (A.T).dot(np.linalg.inv(C).dot(A))\n",
    "    AT_Cinv_Y = (A.T).dot(np.linalg.inv(C).dot(y[mask]))\n",
    "\n",
    "    b[i],m[i] =  np.linalg.inv(AT_Cinv_A).dot(AT_Cinv_Y)\n",
    "\n",
    "    \n",
    "s_m = np.sqrt(1/N*sum((m-m2)**2))\n",
    "s_b = np.sqrt(1/N*sum((b-b2)**2))"
   ]
  },
  {
   "cell_type": "code",
   "execution_count": 60,
   "metadata": {},
   "outputs": [
    {
     "name": "stdout",
     "output_type": "stream",
     "text": [
      "[ 52.6952133  168.56228007 373.47785669 353.64663317  57.60890328\n",
      " 251.38322703  96.24172268 302.61288298 151.33508515 393.67446064\n",
      " 318.21080568 270.95724149 392.59384018 188.95642452 279.27822306\n",
      "  83.79487275 144.73948073 403.79526455 303.66792164 288.48769849]\n",
      "mean b 213.2734919759605\n",
      "uncertainty in b: 118.30652399376694\n"
     ]
    }
   ],
   "source": [
    "print(b)\n",
    "print('mean b',b2)\n",
    "print('uncertainty in b:',s_b)"
   ]
  },
  {
   "cell_type": "code",
   "execution_count": 61,
   "metadata": {
    "scrolled": true
   },
   "outputs": [
    {
     "name": "stdout",
     "output_type": "stream",
     "text": [
      "[2.14617779 1.08227712 0.28248754 0.35338451 2.04463052 0.86521904\n",
      " 1.75315687 0.44662592 1.49341707 0.21572036 0.60578175 0.8450101\n",
      " 0.01412133 1.07392919 0.66884562 1.94099595 1.5847017  0.00390582\n",
      " 0.5068682  0.83557747]\n",
      "mean m 1.0767475241683329\n",
      "uncertainty in m: 0.6767146896563433\n"
     ]
    }
   ],
   "source": [
    "print(m)\n",
    "print('mean m',m2)\n",
    "print('uncertainty in m:',s_m)"
   ]
  },
  {
   "cell_type": "markdown",
   "metadata": {},
   "source": [
    "Errors are a little bit smaller, still large"
   ]
  }
 ],
 "metadata": {
  "kernelspec": {
   "display_name": "Python 3",
   "language": "python",
   "name": "python3"
  },
  "language_info": {
   "codemirror_mode": {
    "name": "ipython",
    "version": 3
   },
   "file_extension": ".py",
   "mimetype": "text/x-python",
   "name": "python",
   "nbconvert_exporter": "python",
   "pygments_lexer": "ipython3",
   "version": "3.7.8"
  }
 },
 "nbformat": 4,
 "nbformat_minor": 4
}
